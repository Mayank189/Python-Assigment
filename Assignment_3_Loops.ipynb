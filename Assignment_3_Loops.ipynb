{
 "cells": [
  {
   "cell_type": "code",
   "execution_count": null,
   "metadata": {},
   "outputs": [],
   "source": [
    "Q. W. A P. which takes one number from 0 to 9 from the user and prints\n",
    "it in the word. And if the word is not from 0 to 9 then\n",
    "it should print that number is outside of the range and program should\n",
    "exit.\n",
    "For exapmple:-\n",
    "input = 1\n",
    "output = one"
   ]
  },
  {
   "cell_type": "code",
   "execution_count": 3,
   "metadata": {
    "ExecuteTime": {
     "end_time": "2021-03-14T08:43:22.910588Z",
     "start_time": "2021-03-14T08:43:19.587477Z"
    }
   },
   "outputs": [
    {
     "name": "stdout",
     "output_type": "stream",
     "text": [
      "Enter the number: 19\n",
      "Number is out of range\n"
     ]
    }
   ],
   "source": [
    "num=eval(input('Enter the number: '))\n",
    "if num==1:\n",
    "    print(\"one\")\n",
    "elif num==2:\n",
    "    print(\"two\")\n",
    "elif num==3:\n",
    "    print(\"three\")\n",
    "elif num==4:\n",
    "    print(\"four\")\n",
    "elif num==5:\n",
    "    print(\"five\")\n",
    "elif num==6:\n",
    "    print(\"six\")\n",
    "elif num==7:\n",
    "    print(\"seven\")\n",
    "elif num==8:\n",
    "    print(\"eight\")\n",
    "elif num==9:\n",
    "    print(\"nine\")\n",
    "elif num==0:\n",
    "    print(\"zero\")\n",
    "else:\n",
    "    print(\"Number is out of range\")"
   ]
  },
  {
   "cell_type": "code",
   "execution_count": null,
   "metadata": {},
   "outputs": [],
   "source": [
    "Q. W. A P. to implement calculator but the operation to be done and two\n",
    "numbers will be taken as input from user:-\n",
    "Operation console should show below:-\n",
    "Please select any one operation from below:-\n",
    "* To add enter 1\n",
    "* to subtract enter 2\n",
    "* To multiply enter 3\n",
    "* To divide enter 4\n",
    "* To divide and find quotient enter 5\n",
    "* To divide and find remainder enter 6\n",
    "* To divide and find num1 to the power of num2 enter 7\n",
    "* To Come out of the program enter 8"
   ]
  },
  {
   "cell_type": "code",
   "execution_count": 9,
   "metadata": {
    "ExecuteTime": {
     "end_time": "2021-03-14T09:03:41.799853Z",
     "start_time": "2021-03-14T09:03:19.084350Z"
    }
   },
   "outputs": [
    {
     "name": "stdout",
     "output_type": "stream",
     "text": [
      "Enter the first no: 20\n",
      "Enter the second no: 30\n",
      "Please select the operation to be performed: \n",
      "1.to add 2.subtract 3.multiply 4.divide 5.To divide and find the quotient\n",
      "6.To divide and find the remainder 7.To divide and find num1 to the power of num2 8.To come out of program \n",
      "Enter the number :2\n",
      "10\n"
     ]
    }
   ],
   "source": [
    "num1=eval(input(\"Enter the first no: \"))\n",
    "num2=eval(input(\"Enter the second no: \"))\n",
    "print(\"Please select the operation to be performed: \")\n",
    "print(\"1.to add 2.subtract 3.multiply 4.divide 5.To divide and find the quotient\")\n",
    "print(\"6.To divide and find the remainder 7.To divide and find num1 to the power of num2 8.To come out of program \")\n",
    "x=eval(input(\"Enter the number :\"))\n",
    "if x==1:\n",
    "    print(num1+num2)\n",
    "elif x==2:\n",
    "    if num1> num2:\n",
    "        print(num1-num2)\n",
    "    else:\n",
    "        print(num2-num1)\n",
    "elif x==3:\n",
    "    print(num1*num2)\n",
    "elif x==4:\n",
    "    print(num1/num2)\n",
    "elif x==5:\n",
    "    print(num1 // num2)\n",
    "elif x==6:\n",
    "    print(num1 % num2)\n",
    "elif x==7:\n",
    "    print(num1**num2)\n",
    "else:\n",
    "    print(\"To come out of program\")\n",
    "\n",
    "    \n"
   ]
  },
  {
   "cell_type": "code",
   "execution_count": null,
   "metadata": {},
   "outputs": [],
   "source": [
    "Q. W A P to check whether a year entered by user is an leap year or not?\n",
    "Check with below input:-\n",
    "leap year:- 2012, 1968, 2004, 1200, 1600,2400\n",
    "Non-lear year:- 1971, 2006, 1700,1800,1900"
   ]
  },
  {
   "cell_type": "code",
   "execution_count": 18,
   "metadata": {
    "ExecuteTime": {
     "end_time": "2021-03-14T09:09:18.024473Z",
     "start_time": "2021-03-14T09:09:14.562147Z"
    }
   },
   "outputs": [
    {
     "name": "stdout",
     "output_type": "stream",
     "text": [
      "Enter the number: 2400\n",
      "Leap year\n"
     ]
    }
   ],
   "source": [
    "num=eval(input('Enter the number: '))\n",
    "if num%4==0 and num%100!=0 or num %400==0:\n",
    "    print(\"Leap year\")\n",
    "else:\n",
    "    print(\"Not Leap year\")"
   ]
  },
  {
   "cell_type": "code",
   "execution_count": null,
   "metadata": {},
   "outputs": [],
   "source": [
    "Q. W A P which takes one number from the user and checks whether it is\n",
    "an even or odd number?, If it even then prints number is\n",
    "even number else prints that number is odd number."
   ]
  },
  {
   "cell_type": "code",
   "execution_count": 21,
   "metadata": {
    "ExecuteTime": {
     "end_time": "2021-03-14T09:10:53.795525Z",
     "start_time": "2021-03-14T09:10:49.681484Z"
    }
   },
   "outputs": [
    {
     "name": "stdout",
     "output_type": "stream",
     "text": [
      "Enter the number: 43\n",
      "Odd number\n"
     ]
    }
   ],
   "source": [
    "num=eval(input(\"Enter the number: \"))\n",
    "if num%2==0:\n",
    "    print(\"Even number \")\n",
    "else:\n",
    "    print(\"Odd number\")\n",
    "    "
   ]
  },
  {
   "cell_type": "code",
   "execution_count": null,
   "metadata": {},
   "outputs": [],
   "source": [
    "Q. W A P which takes two numbers from the user and prints below output:-\n",
    "1. num1 is greater than num2 if num1 is greater than num2\n",
    "2. num1 is smaller than num2 if num1 is smaller than num2\n",
    "3. num1 is equal to num2 if num1 and num2 are equal"
   ]
  },
  {
   "cell_type": "code",
   "execution_count": 23,
   "metadata": {
    "ExecuteTime": {
     "end_time": "2021-03-14T09:15:45.096832Z",
     "start_time": "2021-03-14T09:15:39.500919Z"
    }
   },
   "outputs": [
    {
     "name": "stdout",
     "output_type": "stream",
     "text": [
      "Enter the first number: 30\n",
      "Enter the second number: 10\n",
      "num1 is greater than num2\n"
     ]
    }
   ],
   "source": [
    "num1=eval(input(\"Enter the first number: \"))\n",
    "num2=eval(input(\"Enter the second number: \"))\n",
    "if num1>num2:\n",
    "    print(\"num1 is greater than num2\")\n",
    "elif num1<num2:\n",
    "    print(\"num1 is smaller than num2\")\n",
    "else:\n",
    "    print(\"num1 is equal to num2\")"
   ]
  },
  {
   "cell_type": "code",
   "execution_count": 27,
   "metadata": {
    "ExecuteTime": {
     "end_time": "2021-03-14T09:24:34.881925Z",
     "start_time": "2021-03-14T09:24:29.153666Z"
    }
   },
   "outputs": [
    {
     "name": "stdout",
     "output_type": "stream",
     "text": [
      "Enter the first number: 20\n",
      "Enter the second number: 30\n",
      "num2 is greater than num1\n"
     ]
    }
   ],
   "source": [
    "num1=eval(input(\"Enter the first number: \"))\n",
    "num2=eval(input(\"Enter the second number: \"))\n",
    "print(\"Both num1 and num2 equal\" if num1==num2 else \"num1 is greater than num2\" if num1 > num2 else \"num2 is greater than num1\") "
   ]
  },
  {
   "cell_type": "code",
   "execution_count": null,
   "metadata": {},
   "outputs": [],
   "source": [
    "Q. W A P which takes three numbers from the user and prints below\n",
    "output:-\n",
    "1. num1 is greater than num2 and num3 if num1 is greater than num2\n",
    "and num3\n",
    "2. num2 is greater than num1 and num3 if num2 is greater than num1\n",
    "and num3\n",
    "3. num3 is greater than num1 and num2 if num3 is greater than num1\n",
    "and num2\n",
    "Note:- 1. Do this problem using if - elif - else\n",
    "2. Do this using ternary operator\n",
    "a = a if a>b else b"
   ]
  },
  {
   "cell_type": "code",
   "execution_count": 29,
   "metadata": {
    "ExecuteTime": {
     "end_time": "2021-03-14T09:31:14.083771Z",
     "start_time": "2021-03-14T09:31:05.014446Z"
    }
   },
   "outputs": [
    {
     "name": "stdout",
     "output_type": "stream",
     "text": [
      "Enter the first no: 20\n",
      "Enter the second no: 10\n",
      "Enter the third no: 6\n",
      "num1 is greater than num2 and num3\n"
     ]
    }
   ],
   "source": [
    "num1=eval(input(\"Enter the first no: \"))\n",
    "num2=eval(input(\"Enter the second no: \"))\n",
    "num3=eval(input(\"Enter the third no: \"))\n",
    "if num1>num2:\n",
    "    if num1>num3:\n",
    "        print(\"num1 is greater than num2 and num3\")\n",
    "    else:\n",
    "        print(\"num3 is greater than num1 and num2\")\n",
    "elif num2>num3:\n",
    "    print(\"num2 is greater than num1 and num3\")\n",
    "else:\n",
    "    print(\"num3 is greater than num1 and num2\")"
   ]
  },
  {
   "cell_type": "code",
   "execution_count": 32,
   "metadata": {
    "ExecuteTime": {
     "end_time": "2021-03-14T09:41:36.796489Z",
     "start_time": "2021-03-14T09:41:29.100934Z"
    }
   },
   "outputs": [
    {
     "name": "stdout",
     "output_type": "stream",
     "text": [
      "Enter the first no: 80\n",
      "Enter the second no: 10\n",
      "Enter the third no: 30\n",
      "80 is largest number among three\n"
     ]
    }
   ],
   "source": [
    "num1=eval(input(\"Enter the first no: \"))\n",
    "num2=eval(input(\"Enter the second no: \"))\n",
    "num3=eval(input(\"Enter the third no: \"))\n",
    "\n",
    "greater=(num1 if (num1>num2 and num1>num3) else (num2 if(num2>num1 and num2>num3) else num3))\n",
    "\n",
    "print(f\"{greater} is largest number among three\")"
   ]
  },
  {
   "cell_type": "code",
   "execution_count": null,
   "metadata": {},
   "outputs": [],
   "source": [
    "Q. Write a Python program to find the length of the my_str using loop:-\n",
    "Input:- 'Write a Python program to find the length of the my_str'\n",
    "Output:- 55"
   ]
  },
  {
   "cell_type": "code",
   "execution_count": 35,
   "metadata": {
    "ExecuteTime": {
     "end_time": "2021-03-14T09:49:32.468014Z",
     "start_time": "2021-03-14T09:49:32.462524Z"
    }
   },
   "outputs": [
    {
     "name": "stdout",
     "output_type": "stream",
     "text": [
      "55\n"
     ]
    }
   ],
   "source": [
    "my_str=\"Write a Python program to find the length of the my_str\"\n",
    "count=0\n",
    "for i in my_str:\n",
    "    count=count+1\n",
    "print(count)\n"
   ]
  },
  {
   "cell_type": "code",
   "execution_count": null,
   "metadata": {},
   "outputs": [],
   "source": [
    "Q. Write a Python program to find the total number of times letter 'p'\n",
    "is appeared in the below string using loop:-\n",
    "Input:- 'peter piper picked a peck of pickled peppers.\\n'\n",
    "Output:-"
   ]
  },
  {
   "cell_type": "code",
   "execution_count": 38,
   "metadata": {
    "ExecuteTime": {
     "end_time": "2021-03-14T09:52:21.469775Z",
     "start_time": "2021-03-14T09:52:21.462788Z"
    }
   },
   "outputs": [
    {
     "name": "stdout",
     "output_type": "stream",
     "text": [
      "9\n"
     ]
    }
   ],
   "source": [
    "str=\"peter piper picked a peck of pickled peppers.\\n\"\n",
    "count=0\n",
    "for i in str:\n",
    "    if i==\"p\":\n",
    "        count=count+1\n",
    "print(count)\n"
   ]
  },
  {
   "cell_type": "code",
   "execution_count": null,
   "metadata": {},
   "outputs": [],
   "source": [
    "Q. Write a Python Program, to print all the indexes of all occurences of\n",
    "letter 'p' appeared in the string using loop:-\n",
    "Input:- 'peter piper picked a peck of pickled peppers.'\n",
    "Output:-\n",
    "0\n",
    "6\n",
    "8\n",
    "12\n",
    "21\n",
    "29\n",
    "37\n",
    "39\n",
    "40"
   ]
  },
  {
   "cell_type": "code",
   "execution_count": 41,
   "metadata": {
    "ExecuteTime": {
     "end_time": "2021-03-14T10:30:18.313386Z",
     "start_time": "2021-03-14T10:30:18.301908Z"
    }
   },
   "outputs": [
    {
     "name": "stdout",
     "output_type": "stream",
     "text": [
      "0\n",
      "6\n",
      "8\n",
      "12\n",
      "21\n",
      "29\n",
      "37\n",
      "39\n",
      "40\n"
     ]
    }
   ],
   "source": [
    "str=\"peter piper picked a peck of pickled peppers.\"\n",
    "lst=[]\n",
    "for i in range(len(str)):\n",
    "    if str[i]==\"p\":\n",
    "        lst.append(i)\n",
    "    else:\n",
    "        continue\n",
    "for j in lst:\n",
    "    print(j)\n",
    "   \n",
    "    "
   ]
  },
  {
   "cell_type": "code",
   "execution_count": null,
   "metadata": {},
   "outputs": [],
   "source": [
    "Q. Write a python program to find below output using loop:-\n",
    "Input:- 'peter piper picked a peck of pickled peppers.'\n",
    "Output:- ['peter', 'piper', 'picked', 'a', 'peck', 'of', 'pickled',\n",
    "'peppers']"
   ]
  },
  {
   "cell_type": "code",
   "execution_count": 45,
   "metadata": {
    "ExecuteTime": {
     "end_time": "2021-03-14T10:34:15.967898Z",
     "start_time": "2021-03-14T10:34:15.961407Z"
    }
   },
   "outputs": [
    {
     "name": "stdout",
     "output_type": "stream",
     "text": [
      "['peter', 'piper', 'picked', 'a', 'peck', 'of', 'pickled', 'peppers.']\n"
     ]
    }
   ],
   "source": [
    "str=\"peter piper picked a peck of pickled peppers.\"\n",
    "lst=str.split(\" \")\n",
    "lst1=[]\n",
    "for i in lst:\n",
    "    lst1.append(i)\n",
    "print(lst1)\n",
    "    \n"
   ]
  },
  {
   "cell_type": "code",
   "execution_count": null,
   "metadata": {},
   "outputs": [],
   "source": [
    "Q. Write a python program to find below output using loop:-\n",
    "Input:- 'peter piper picked a peck of pickled peppers.'\n",
    "Output:- 'peppers pickled of peck a picked piper peter'"
   ]
  },
  {
   "cell_type": "code",
   "execution_count": 49,
   "metadata": {
    "ExecuteTime": {
     "end_time": "2021-03-14T10:38:14.498660Z",
     "start_time": "2021-03-14T10:38:14.492669Z"
    }
   },
   "outputs": [
    {
     "name": "stdout",
     "output_type": "stream",
     "text": [
      "  peppers pickled of peck a picked piper peter\n"
     ]
    }
   ],
   "source": [
    "str=\"peter piper picked a peck of pickled peppers\"\n",
    "lst=str.split(\" \")\n",
    "my_str=\" \"\n",
    "lst1=[]\n",
    "for i in lst[::-1]:\n",
    "    my_str=my_str+\" \"+i\n",
    "print(my_str)"
   ]
  },
  {
   "cell_type": "code",
   "execution_count": null,
   "metadata": {},
   "outputs": [],
   "source": [
    "Q. Write a python program to find below output using loop:-\n",
    "Input:- 'peter piper picked a peck of pickled peppers.'\n",
    "Output:- '.sreppep delkcip fo kcep a dekcip repip retep'"
   ]
  },
  {
   "cell_type": "code",
   "execution_count": 50,
   "metadata": {
    "ExecuteTime": {
     "end_time": "2021-03-14T10:39:48.255298Z",
     "start_time": "2021-03-14T10:39:48.245814Z"
    }
   },
   "outputs": [
    {
     "name": "stdout",
     "output_type": "stream",
     "text": [
      "  sreppep delkcip fo kcep a dekcip repip retep\n"
     ]
    }
   ],
   "source": [
    "str=\"peter piper picked a peck of pickled peppers\"\n",
    "lst=str.split(\" \")\n",
    "my_str=\" \"\n",
    "lst1=[]\n",
    "for i in lst[::-1]:\n",
    "    my_str=my_str+\" \"+i[::-1]\n",
    "print(my_str)"
   ]
  },
  {
   "cell_type": "code",
   "execution_count": null,
   "metadata": {},
   "outputs": [],
   "source": [
    "Q. Write a python program to find below output using loop:-\n",
    "Input:- 'peter piper picked a peck of pickled peppers.'\n",
    "Output:- 'retep repip dekcip a kcep fo delkcip sreppep'"
   ]
  },
  {
   "cell_type": "code",
   "execution_count": 51,
   "metadata": {
    "ExecuteTime": {
     "end_time": "2021-03-14T10:43:07.190519Z",
     "start_time": "2021-03-14T10:43:07.182035Z"
    }
   },
   "outputs": [
    {
     "name": "stdout",
     "output_type": "stream",
     "text": [
      "  retep repip dekcip a kcep fo delkcip sreppep\n"
     ]
    }
   ],
   "source": [
    "str=\"peter piper picked a peck of pickled peppers\"\n",
    "lst=str.split(\" \")\n",
    "my_str=\" \"\n",
    "lst1=[]\n",
    "for i in lst:\n",
    "    my_str=my_str+\" \"+i[::-1]\n",
    "print(my_str)"
   ]
  },
  {
   "cell_type": "code",
   "execution_count": null,
   "metadata": {},
   "outputs": [],
   "source": [
    "Q. Write a python program to find below output using loop:-\n",
    "Input:- 'peter piper picked a peck of pickled peppers.'\n",
    "Output:- 'Peter Piper Picked A Peck Of Pickled Peppers'"
   ]
  },
  {
   "cell_type": "code",
   "execution_count": 56,
   "metadata": {
    "ExecuteTime": {
     "end_time": "2021-03-14T10:51:01.210805Z",
     "start_time": "2021-03-14T10:51:01.202820Z"
    }
   },
   "outputs": [
    {
     "name": "stdout",
     "output_type": "stream",
     "text": [
      "  Peter Piper Picked A Peck Of Pickled Peppers\n"
     ]
    }
   ],
   "source": [
    "str1=\"peter piper picked a peck of pickled peppers\"\n",
    "lst=str1.split(\" \")\n",
    "my_str=\" \"\n",
    "#x=\" \"\n",
    "for i in lst:\n",
    "    #x=str(i)\n",
    "    my_str=my_str+\" \"+i.capitalize()\n",
    "print(my_str)"
   ]
  },
  {
   "cell_type": "code",
   "execution_count": null,
   "metadata": {},
   "outputs": [],
   "source": [
    "Q. Write a python program to find below output using loop:-\n",
    "Input:- 'Peter Piper Picked A Peck Of Pickled Peppers.'\n",
    "Output:- 'Peter piper picked a peck of pickled peppers'"
   ]
  },
  {
   "cell_type": "code",
   "execution_count": 58,
   "metadata": {
    "ExecuteTime": {
     "end_time": "2021-03-14T11:04:43.327526Z",
     "start_time": "2021-03-14T11:04:43.321039Z"
    }
   },
   "outputs": [
    {
     "name": "stdout",
     "output_type": "stream",
     "text": [
      "  Piper Picked A Peck Of Pickled Peppers.\n"
     ]
    }
   ],
   "source": [
    "my_str=\"Peter Piper Picked A Peck Of Pickled Peppers.\"\n",
    "lst=my_str.split(\" \")\n",
    "str1=\" \"\n",
    "flag=0\n",
    "for i in lst:\n",
    "    if flag==0:\n",
    "        flag=1\n",
    "        continue\n",
    "    else:\n",
    "        str1=str1+\" \"+i.capitalize()\n",
    "        flag=1\n",
    "print(str1)\n",
    "    "
   ]
  },
  {
   "cell_type": "code",
   "execution_count": null,
   "metadata": {},
   "outputs": [],
   "source": [
    "Q. Write a python program to implement index method using loop. If\n",
    "sub_str is found in my_str then it will print the index\n",
    "of first occurrence of first character of matching string in my_str:-\n",
    "Input:- my_str = 'Peter Piper Picked A Peck Of Pickled Peppers.',\n",
    "sub_str = 'Pickl'\n",
    "Output:- 29"
   ]
  },
  {
   "cell_type": "code",
   "execution_count": 78,
   "metadata": {
    "ExecuteTime": {
     "end_time": "2021-03-14T12:57:08.441790Z",
     "start_time": "2021-03-14T12:57:08.433825Z"
    }
   },
   "outputs": [
    {
     "name": "stdout",
     "output_type": "stream",
     "text": [
      "29\n"
     ]
    }
   ],
   "source": [
    "my_str = \"Peter Piper Picked A Peck Of Pickled Peppers.\"\n",
    "sub_str = \"Pickl\"\n",
    "\n",
    "for i in range(0,len(my_str)):\n",
    "    if my_str[i:i+len(sub_str)] == sub_str:\n",
    "        print(i)\n"
   ]
  },
  {
   "cell_type": "code",
   "execution_count": null,
   "metadata": {},
   "outputs": [],
   "source": [
    "Q. Write a python program to implement replace method using loop. If\n",
    "sub_str is found in my_str then it will replace the first\n",
    "occurrence of sub_str with new_str else it will will print sub_str not\n",
    "found:-\n",
    "Input:- my_str = 'Peter Piper Picked A Peck Of Pickled Peppers.',\n",
    "sub_str = 'Peck', new_str = 'Pack'\n",
    "Output:- 'Peter Piper Picked A Pack Of Pickled Peppers.'"
   ]
  },
  {
   "cell_type": "code",
   "execution_count": 5,
   "metadata": {
    "ExecuteTime": {
     "end_time": "2021-03-14T13:18:05.926828Z",
     "start_time": "2021-03-14T13:18:05.917345Z"
    }
   },
   "outputs": [
    {
     "name": "stdout",
     "output_type": "stream",
     "text": [
      "Peck1 not found \n"
     ]
    }
   ],
   "source": [
    "my_str=\"Peter Piper Picked A Peck Of Pickled Peppers.\"\n",
    "sub_str=\"Peck1\"\n",
    "new_str=\"Pack\"\n",
    "flag=0\n",
    "str1=\" \"\n",
    "lst=my_str.split(\" \")\n",
    "for i in lst:\n",
    "    if i==sub_str and flag==0:\n",
    "        str1=str1+\" \"+new_str\n",
    "        flag=1\n",
    "    else:\n",
    "        str1=str1+\" \"+i\n",
    "if flag==0:\n",
    "    print(f\"{sub_str} not found \")\n",
    "else:\n",
    "    print(str1)\n",
    "    \n",
    "\n"
   ]
  },
  {
   "cell_type": "code",
   "execution_count": null,
   "metadata": {},
   "outputs": [],
   "source": [
    "Q. Write a python program to find below output (implements rjust and\n",
    "ljust) using loop:-\n",
    "Input:- 'Peter Piper Picked A Peck Of Pickled Peppers.', sub_str =\n",
    "'Peck',\n",
    "Output:- '*********************Peck********************'"
   ]
  },
  {
   "cell_type": "code",
   "execution_count": 13,
   "metadata": {
    "ExecuteTime": {
     "end_time": "2021-03-14T13:27:29.956812Z",
     "start_time": "2021-03-14T13:27:29.948825Z"
    }
   },
   "outputs": [
    {
     "name": "stdout",
     "output_type": "stream",
     "text": [
      "********************Peck****************\n"
     ]
    }
   ],
   "source": [
    "my_str=\"Peter Piper Picked A Peck Of Pickled Peppers.\"\n",
    "sub_str=\"Peck\"\n",
    "word=\" \"\n",
    "word1=\" \"\n",
    "lst=my_str.split(\" \")\n",
    "for i in lst:\n",
    "    if i==sub_str:\n",
    "        word=sub_str.ljust(20,'*')\n",
    "        word1=word.rjust(40,'*')\n",
    "print(word1)"
   ]
  },
  {
   "cell_type": "code",
   "execution_count": 33,
   "metadata": {
    "ExecuteTime": {
     "end_time": "2021-03-14T13:53:56.605641Z",
     "start_time": "2021-03-14T13:53:56.599653Z"
    }
   },
   "outputs": [
    {
     "ename": "SyntaxError",
     "evalue": "invalid syntax (<ipython-input-33-898c1e692965>, line 1)",
     "output_type": "error",
     "traceback": [
      "\u001b[1;36m  File \u001b[1;32m\"<ipython-input-33-898c1e692965>\"\u001b[1;36m, line \u001b[1;32m1\u001b[0m\n\u001b[1;33m    Q. Write a python program to find below output using loop:-\u001b[0m\n\u001b[1;37m             ^\u001b[0m\n\u001b[1;31mSyntaxError\u001b[0m\u001b[1;31m:\u001b[0m invalid syntax\n"
     ]
    }
   ],
   "source": [
    "Q. Write a python program to find below output using loop:-\n",
    "Input:- 'This is Python class', sep = ' is',\n",
    "Output:- ['This', 'is', 'Python class']"
   ]
  },
  {
   "cell_type": "code",
   "execution_count": 1,
   "metadata": {
    "ExecuteTime": {
     "end_time": "2021-03-14T13:54:14.614467Z",
     "start_time": "2021-03-14T13:54:14.581528Z"
    }
   },
   "outputs": [
    {
     "name": "stdout",
     "output_type": "stream",
     "text": [
      "['This', 'is', ' Python class']\n"
     ]
    }
   ],
   "source": [
    "my_str=\"This is Python class\"\n",
    "sep=\"is\"\n",
    "lst=my_str.split(\" \")\n",
    "lst1=my_str[my_str.index(\"is\"):len(my_str)].split(\"is\")\n",
    "lst2=[]\n",
    "for i in lst:\n",
    "    if i==lst[0]:\n",
    "        lst1.insert(0,i)\n",
    "    elif i==lst[1]:\n",
    "        lst1.insert(1,i)\n",
    "    else:\n",
    "        break\n",
    "for j in lst1:\n",
    "    if j==\" \" or j==\"\":\n",
    "        continue\n",
    "    else:\n",
    "        lst2.append(j)\n",
    "print(lst2)\n"
   ]
  },
  {
   "cell_type": "code",
   "execution_count": null,
   "metadata": {},
   "outputs": [],
   "source": []
  }
 ],
 "metadata": {
  "kernelspec": {
   "display_name": "Python 3",
   "language": "python",
   "name": "python3"
  },
  "language_info": {
   "codemirror_mode": {
    "name": "ipython",
    "version": 3
   },
   "file_extension": ".py",
   "mimetype": "text/x-python",
   "name": "python",
   "nbconvert_exporter": "python",
   "pygments_lexer": "ipython3",
   "version": "3.8.5"
  }
 },
 "nbformat": 4,
 "nbformat_minor": 4
}
