{
 "cells": [
  {
   "cell_type": "code",
   "execution_count": null,
   "metadata": {},
   "outputs": [],
   "source": [
    "# Define a function calls addNumber(x, y) that takes in two number and returns the sum of the two numbers.\n"
   ]
  },
  {
   "cell_type": "code",
   "execution_count": 2,
   "metadata": {
    "ExecuteTime": {
     "end_time": "2021-03-22T07:43:53.674025Z",
     "start_time": "2021-03-22T07:43:49.463951Z"
    }
   },
   "outputs": [
    {
     "name": "stdout",
     "output_type": "stream",
     "text": [
      "Enter the first no: 10\n",
      "Enter the second no: 20\n",
      "30\n"
     ]
    }
   ],
   "source": [
    "def add(a,b):\n",
    "    sum=a+b\n",
    "    return sum\n",
    "x=eval(input(\"Enter the first no: \"))\n",
    "y=eval(input(\"Enter the second no: \"))\n",
    "out=add(x,y)\n",
    "print(out)"
   ]
  },
  {
   "cell_type": "code",
   "execution_count": null,
   "metadata": {},
   "outputs": [],
   "source": [
    "# Define a function calls subtractNumber(x, y) that takes in two numbers and returns the difference of the two numbers.\n"
   ]
  },
  {
   "cell_type": "code",
   "execution_count": 6,
   "metadata": {
    "ExecuteTime": {
     "end_time": "2021-03-22T07:48:05.002228Z",
     "start_time": "2021-03-22T07:48:00.402037Z"
    }
   },
   "outputs": [
    {
     "name": "stdout",
     "output_type": "stream",
     "text": [
      "Enter the first no: 50\n",
      "Enter the second no: 50\n",
      "0\n"
     ]
    }
   ],
   "source": [
    "def sub(a,b):\n",
    "    if a>b:\n",
    "        diff=a-b\n",
    "    elif a<b:\n",
    "        diff=b-a\n",
    "    else:\n",
    "        diff=a-b\n",
    "    return diff\n",
    "x=eval(input(\"Enter the first no: \"))\n",
    "y=eval(input(\"Enter the second no: \"))\n",
    "out=sub(x,y)\n",
    "print(out)"
   ]
  },
  {
   "cell_type": "code",
   "execution_count": null,
   "metadata": {},
   "outputs": [],
   "source": [
    "# Write a function getBiggerNumber(x, y) that takes in two numbers as arguments and returns the bigger number.\n"
   ]
  },
  {
   "cell_type": "code",
   "execution_count": 8,
   "metadata": {
    "ExecuteTime": {
     "end_time": "2021-03-22T07:51:10.697967Z",
     "start_time": "2021-03-22T07:51:03.429766Z"
    }
   },
   "outputs": [
    {
     "name": "stdout",
     "output_type": "stream",
     "text": [
      "Enter the first no: 26\n",
      "Enter the second no: 10\n",
      "26\n"
     ]
    }
   ],
   "source": [
    "def getBiggerNumber(x,y):\n",
    "    if x>y:\n",
    "        return x\n",
    "    if y>x:\n",
    "        return y\n",
    "a=eval(input(\"Enter the first no: \"))\n",
    "b=eval(input(\"Enter the second no: \"))\n",
    "out=getBiggerNumber(a,b)\n",
    "print(out)"
   ]
  },
  {
   "cell_type": "code",
   "execution_count": null,
   "metadata": {},
   "outputs": [],
   "source": [
    "# Python provides many built-in modules with many useful functions. \n",
    "# One such module is the math module. The math module provides many useful functions such as sqrt(x), pow(x, y), ceil(x), floor(x) etc. \n",
    "# You will need to do a \"import math\" before you are allowed to use the functions within the math module.\n",
    "\n",
    "\n",
    "# Calculate the square root of 16 and stores it in the variable a\n",
    "\n",
    "\n",
    "# Calculate 3 to the power of 5 and stores it in the variable b\n",
    "\n",
    "\n",
    "# Calculate area of circle with radius = 3.0 by making use of the math.pi constant and store it in the variable c\n"
   ]
  },
  {
   "cell_type": "code",
   "execution_count": 11,
   "metadata": {
    "ExecuteTime": {
     "end_time": "2021-03-22T07:55:58.393647Z",
     "start_time": "2021-03-22T07:55:58.385163Z"
    }
   },
   "outputs": [
    {
     "name": "stdout",
     "output_type": "stream",
     "text": [
      "4.0\n",
      "243.0\n",
      "28.274333882308138\n"
     ]
    }
   ],
   "source": [
    "import math as m\n",
    "a=m.sqrt(16)\n",
    "b=m.pow(3,5)\n",
    "c=m.pi*3.0*3.0\n",
    "print(a)\n",
    "print(b)\n",
    "print(c)\n"
   ]
  },
  {
   "cell_type": "code",
   "execution_count": null,
   "metadata": {},
   "outputs": [],
   "source": [
    "# Write a function to convert temperature from Celsius to Fahrenheit scale.\n",
    "# oC to oF Conversion: Multipy by 9, then divide by 5, then add 32.\n",
    "\n",
    "# Note: Return a string of 2 decimal places.\n",
    "# In - Cel2Fah(28.0)\n",
    "# Out - '82.40'\n",
    "# In - Cel2Fah(0.00)\n",
    "# Out - '32.00'"
   ]
  },
  {
   "cell_type": "code",
   "execution_count": 18,
   "metadata": {
    "ExecuteTime": {
     "end_time": "2021-03-22T08:09:26.428303Z",
     "start_time": "2021-03-22T08:09:23.427982Z"
    }
   },
   "outputs": [
    {
     "name": "stdout",
     "output_type": "stream",
     "text": [
      "Enter the Celisus Degree: 28.0\n",
      "82.40\n"
     ]
    }
   ],
   "source": [
    " def convert(Cel):\n",
    "        Fah=(Cel*9/5)+32\n",
    "        formatted =\"{:.2f}\".format(Fah)\n",
    "        return formatted\n",
    "inp=eval(input(\"Enter the Celisus Degree: \"))\n",
    "out=convert(inp)\n",
    "print(out)"
   ]
  },
  {
   "cell_type": "code",
   "execution_count": null,
   "metadata": {},
   "outputs": [],
   "source": [
    "# Write a function to compute the BMI of a person.\n",
    "#     BMI = weight(kg)  /  ( height(m)*height(m) )\n",
    "\n",
    "# Note: Return a string of 1 decimal place.\n",
    "# In - BMI(63, 1.7)\n",
    "# Out - '21.8'\n",
    "# In - BMI(110, 2)\n",
    "# Out - '27.5'\n"
   ]
  },
  {
   "cell_type": "code",
   "execution_count": 22,
   "metadata": {
    "ExecuteTime": {
     "end_time": "2021-03-22T08:17:16.671477Z",
     "start_time": "2021-03-22T08:17:11.117400Z"
    }
   },
   "outputs": [
    {
     "name": "stdout",
     "output_type": "stream",
     "text": [
      "Enter the weight: 63\n",
      "Enter the height: 1.7\n",
      "21.8\n"
     ]
    }
   ],
   "source": [
    "def BMI(w,h):\n",
    "    value=w/(h*h)\n",
    "    formatted=\"{:.1f}\".format(value)\n",
    "    return formatted\n",
    "Weight=eval(input(\"Enter the weight: \"))\n",
    "Height=eval(input(\"Enter the height: \"))\n",
    "output=str(BMI(Weight,Height))\n",
    "print(output)"
   ]
  },
  {
   "cell_type": "code",
   "execution_count": null,
   "metadata": {},
   "outputs": [],
   "source": [
    "# Write a function percent(value, total) that takes in two numbers as arguments, and returns the percentage value as an integer.\n",
    "# In - percent(46, 90)\n",
    "# Out - 51\n",
    "# In - percent(51, 51)\n",
    "# Out - 100\n",
    "# In - percent(63, 12)\n",
    "# Out - 525\n",
    "\n"
   ]
  },
  {
   "cell_type": "code",
   "execution_count": 24,
   "metadata": {
    "ExecuteTime": {
     "end_time": "2021-03-22T08:24:30.820973Z",
     "start_time": "2021-03-22T08:24:25.399346Z"
    }
   },
   "outputs": [
    {
     "name": "stdout",
     "output_type": "stream",
     "text": [
      "Enter the value: 46\n",
      "Enter the total: 90\n",
      "51\n"
     ]
    }
   ],
   "source": [
    "def percent(value,total):\n",
    "    out=(value/total)*100\n",
    "    formatted =\"{:.0f}\".format(out)\n",
    "    return formatted\n",
    "x=eval(input(\"Enter the value: \"))\n",
    "y=eval(input(\"Enter the total: \"))\n",
    "cal=percent(x,y)\n",
    "print(cal)"
   ]
  },
  {
   "cell_type": "code",
   "execution_count": null,
   "metadata": {},
   "outputs": [],
   "source": [
    "# Write a function to compute the hypotenuse given sides a and b of the triangle.\n",
    "# Hint: You can use math.sqrt(x) to compute the square root of x.\n",
    "# In - hypotenuse(3, 4)\n",
    "# Out - 5\n",
    "# In - hypotenuse(5, 12)\n",
    "# Out - 13\n"
   ]
  },
  {
   "cell_type": "code",
   "execution_count": 27,
   "metadata": {
    "ExecuteTime": {
     "end_time": "2021-03-22T08:28:51.089890Z",
     "start_time": "2021-03-22T08:28:47.789930Z"
    }
   },
   "outputs": [
    {
     "name": "stdout",
     "output_type": "stream",
     "text": [
      "Enter the side a :3\n",
      "Enter the side b: 4\n",
      "5\n"
     ]
    }
   ],
   "source": [
    "import math as m\n",
    "def hypo(a,b):\n",
    "    val=m.sqrt((a*a)+(b*b))\n",
    "    formatted =\"{:.0f}\".format(val)\n",
    "    return formatted\n",
    "x=eval(input(\"Enter the side a :\"))\n",
    "y=eval(input(\"Enter the side b: \"))\n",
    "out=hypo(x,y)\n",
    "print(out)\n"
   ]
  },
  {
   "cell_type": "code",
   "execution_count": null,
   "metadata": {},
   "outputs": [],
   "source": [
    "# Write a function getSumOfLastDigits() that takes in a list of positive numbers and returns the sum of all the last digits in the list.\n",
    "# getSumOfLastDigits([2, 3, 4])\n",
    "# 9\n",
    "# getSumOfLastDigits([1, 23, 456])\n",
    "# 10"
   ]
  },
  {
   "cell_type": "code",
   "execution_count": 33,
   "metadata": {
    "ExecuteTime": {
     "end_time": "2021-03-22T08:36:29.347159Z",
     "start_time": "2021-03-22T08:36:23.035802Z"
    }
   },
   "outputs": [
    {
     "name": "stdout",
     "output_type": "stream",
     "text": [
      "Enter the list of no: [1,23,456]\n",
      "10\n"
     ]
    }
   ],
   "source": [
    "def sumofdigit(lst):\n",
    "    sum=0\n",
    "    for i in lst:\n",
    "        val=i%10\n",
    "        sum=sum+val\n",
    "    return sum\n",
    "inp=eval(input(\"Enter the list of no: \"))\n",
    "out=sumofdigit(inp)\n",
    "print(out)"
   ]
  },
  {
   "cell_type": "code",
   "execution_count": null,
   "metadata": {},
   "outputs": [],
   "source": [
    "# Write a function that uses a default value.\n",
    "# In - introduce('Lim', 20)\n",
    "# Out - 'My name is Lim. I am 20 years old.'\n",
    "# In - introduce('Ahmad')\n",
    "# Out - 'My name is Ahmad. My age is secret.'\n",
    "\n"
   ]
  },
  {
   "cell_type": "code",
   "execution_count": 44,
   "metadata": {
    "ExecuteTime": {
     "end_time": "2021-03-22T08:53:09.844036Z",
     "start_time": "2021-03-22T08:53:02.577850Z"
    }
   },
   "outputs": [
    {
     "name": "stdout",
     "output_type": "stream",
     "text": [
      "Enter the name: \"lim\"\n",
      "Enter the age: 20\n",
      "My name is lim . I am 20 years old.\n"
     ]
    }
   ],
   "source": [
    "def introduce(name,age=\"secret\"):\n",
    "    if age!=\"secret\":\n",
    "        print(f\"My name is {name} . I am {age} years old.\")\n",
    "    else:\n",
    "        print(f\"My name is {name} . My age is {age}.\")\n",
    "        \n",
    "x=eval(input(\"Enter the name: \"))\n",
    "y=eval(input(\"Enter the age: \"))\n",
    "if y>0:\n",
    "    introduce(x,y)\n",
    "else:\n",
    "    introduce(x)"
   ]
  },
  {
   "cell_type": "code",
   "execution_count": null,
   "metadata": {},
   "outputs": [],
   "source": [
    "# Write a function isEquilateral(x, y, z) that accepts the 3 sides of a triangle as arguments. \n",
    "# The program should return True if it is an equilateral triangle.\n",
    "\n",
    "# In - isEquilateral(2, 4, 3)\n",
    "# False - False\n",
    "# In - isEquilateral(3, 3, 3)\n",
    "# Out - True\n",
    "# In - isEquilateral(-3, -3, -3)\n",
    "# Out - False"
   ]
  },
  {
   "cell_type": "code",
   "execution_count": 5,
   "metadata": {
    "ExecuteTime": {
     "end_time": "2021-03-22T10:17:43.471272Z",
     "start_time": "2021-03-22T10:17:36.416762Z"
    }
   },
   "outputs": [
    {
     "name": "stdout",
     "output_type": "stream",
     "text": [
      "Enter the first side of traingle: 2\n",
      "Enter the second side of traingle: 7\n",
      "Enter the third side of traingle: 9\n",
      "False\n"
     ]
    }
   ],
   "source": [
    "def Equi(a,b,c):\n",
    "    if a>0 and b>0 and c>0:\n",
    "        if a==b==c:\n",
    "            return True\n",
    "        else:\n",
    "            return False\n",
    "    elif a<0 or b<0 or c<0:\n",
    "        return False\n",
    "    else:\n",
    "        return False\n",
    "x=eval(input(\"Enter the first side of traingle: \"))\n",
    "y=eval(input(\"Enter the second side of traingle: \"))\n",
    "z=eval(input(\"Enter the third side of traingle: \"))\n",
    "out=Equi(x,y,z)\n",
    "print(out)"
   ]
  },
  {
   "cell_type": "code",
   "execution_count": null,
   "metadata": {},
   "outputs": [],
   "source": [
    "# For a quadratic equation in the form of ax2+bx+c, the discriminant, D is b2-4ac. Write a function to compute the discriminant, D.\n",
    "# In - quadratic(1, 2, 3)\n",
    "# Out - 'The discriminant is -8.'\n",
    "# In - quadratic(1, 3, 2)\n",
    "# Out - 'The discriminant is 1.'\n",
    "# In - quadratic(1, 4, 4)\n",
    "# Out - 'The discriminant is 0.'"
   ]
  },
  {
   "cell_type": "code",
   "execution_count": 8,
   "metadata": {
    "ExecuteTime": {
     "end_time": "2021-03-22T10:23:43.735565Z",
     "start_time": "2021-03-22T10:23:38.831962Z"
    }
   },
   "outputs": [
    {
     "name": "stdout",
     "output_type": "stream",
     "text": [
      "Enter the coefficient of a: 1\n",
      "Enter the coefficient of b: 4\n",
      "Enter the coefficient of c: 4\n",
      "0\n"
     ]
    }
   ],
   "source": [
    "def quad(a,b,c):\n",
    "    value=((b*b)-(4*a*c))\n",
    "    formatted=\"{:.0f}\".format(value)\n",
    "    return formatted\n",
    "\n",
    "x=eval(input(\"Enter the coefficient of a: \"))\n",
    "y=eval(input(\"Enter the coefficient of b: \"))\n",
    "z=eval(input(\"Enter the coefficient of c: \"))\n",
    "out=quad(x,y,z)\n",
    "print(out)"
   ]
  },
  {
   "cell_type": "code",
   "execution_count": null,
   "metadata": {},
   "outputs": [],
   "source": [
    "# Define a function calls addFirstAndLast(x) that takes in a list of numbers and returns the sum of the first and last numbers.\n",
    "# In - addFirstAndLast([])\n",
    "# Out - 0\n",
    "# In - addFirstAndLast([2, 7, 3])\n",
    "# Out - 5\n",
    "# In - addFirstAndLast([10])\n",
    "# Out - 10\n"
   ]
  },
  {
   "cell_type": "code",
   "execution_count": 16,
   "metadata": {
    "ExecuteTime": {
     "end_time": "2021-03-22T10:31:36.794200Z",
     "start_time": "2021-03-22T10:31:22.443453Z"
    }
   },
   "outputs": [
    {
     "name": "stdout",
     "output_type": "stream",
     "text": [
      "Enter the list of value :[2,7,3,6,8,9]\n",
      "11\n"
     ]
    }
   ],
   "source": [
    "def addFirstandLast(lst):\n",
    "    if lst==[]:\n",
    "        return 0\n",
    "    elif lst!=[] and len(lst)>=2:\n",
    "        value=lst[0]+lst[-1]\n",
    "        return value\n",
    "    else:\n",
    "        return lst[0]\n",
    "x=eval(input(\"Enter the list of value :\"))\n",
    "out=addFirstandLast(x)\n",
    "print(out)"
   ]
  },
  {
   "cell_type": "code",
   "execution_count": null,
   "metadata": {},
   "outputs": [],
   "source": [
    "# Complete the 'lambda' expression so that it returns True if the argument is an even number, and False otherwise.\n"
   ]
  },
  {
   "cell_type": "code",
   "execution_count": 22,
   "metadata": {
    "ExecuteTime": {
     "end_time": "2021-03-22T10:34:10.705720Z",
     "start_time": "2021-03-22T10:34:06.687327Z"
    }
   },
   "outputs": [
    {
     "name": "stdout",
     "output_type": "stream",
     "text": [
      "Enter the number to check: 14\n"
     ]
    },
    {
     "data": {
      "text/plain": [
       "True"
      ]
     },
     "execution_count": 22,
     "metadata": {},
     "output_type": "execute_result"
    }
   ],
   "source": [
    "num=eval(input(\"Enter the number to check: \"))\n",
    "(lambda num:True if num%2==0 else False)(num)"
   ]
  },
  {
   "cell_type": "code",
   "execution_count": null,
   "metadata": {},
   "outputs": [],
   "source": [
    "# getScore.__doc__\n",
    "# 'A function that computes and returns the final score.'\n"
   ]
  },
  {
   "cell_type": "code",
   "execution_count": 27,
   "metadata": {
    "ExecuteTime": {
     "end_time": "2021-03-22T10:39:25.677734Z",
     "start_time": "2021-03-22T10:39:25.670745Z"
    }
   },
   "outputs": [
    {
     "data": {
      "text/plain": [
       "'\"A function that computes and returns the final score.\"'"
      ]
     },
     "execution_count": 27,
     "metadata": {},
     "output_type": "execute_result"
    }
   ],
   "source": [
    "def getScore():\n",
    "    '\"A function that computes and returns the final score.\"'\n",
    "    pass\n",
    "getScore.__doc__"
   ]
  },
  {
   "cell_type": "code",
   "execution_count": null,
   "metadata": {},
   "outputs": [],
   "source": [
    "# In Python, it is possible to pass a function as a argument to another function. \n",
    "# Write a function useFunction(func, num) that takes in a function and a number as arguments. \n",
    "# The useFunction should produce the output shown in the examples given below.\n",
    "\n",
    "# def addOne(x):\n",
    "#   return x + 1\n",
    "# useFunction(addOne, 4)\n",
    "# 25\n",
    "# useFunction(addOne, 9)\n",
    "# 100\n",
    "# useFunction(addOne, 0)\n",
    "# 1\n"
   ]
  },
  {
   "cell_type": "code",
   "execution_count": 28,
   "metadata": {
    "ExecuteTime": {
     "end_time": "2021-03-22T10:44:13.763018Z",
     "start_time": "2021-03-22T10:44:13.753537Z"
    }
   },
   "outputs": [
    {
     "data": {
      "text/plain": [
       "25"
      ]
     },
     "execution_count": 28,
     "metadata": {},
     "output_type": "execute_result"
    }
   ],
   "source": [
    "def addOne(x):\n",
    "    return x+1\n",
    "def useFunction(addOne,n):\n",
    "    value=addOne(n)**2\n",
    "    return value\n",
    "useFunction(addOne,4)"
   ]
  },
  {
   "cell_type": "code",
   "execution_count": null,
   "metadata": {},
   "outputs": [],
   "source": []
  }
 ],
 "metadata": {
  "kernelspec": {
   "display_name": "Python 3",
   "language": "python",
   "name": "python3"
  },
  "language_info": {
   "codemirror_mode": {
    "name": "ipython",
    "version": 3
   },
   "file_extension": ".py",
   "mimetype": "text/x-python",
   "name": "python",
   "nbconvert_exporter": "python",
   "pygments_lexer": "ipython3",
   "version": "3.8.5"
  }
 },
 "nbformat": 4,
 "nbformat_minor": 4
}
